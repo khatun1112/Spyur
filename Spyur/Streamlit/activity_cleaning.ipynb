{
 "cells": [
  {
   "cell_type": "code",
   "execution_count": 18,
   "metadata": {},
   "outputs": [],
   "source": [
    "# Libraries\n",
    "import pandas as pd\n",
    "import re\n",
    "import json"
   ]
  },
  {
   "cell_type": "code",
   "execution_count": 19,
   "metadata": {},
   "outputs": [],
   "source": [
    "spyur_df = pd.read_pickle('spyur_df.pkl') "
   ]
  },
  {
   "cell_type": "code",
   "execution_count": 20,
   "metadata": {},
   "outputs": [],
   "source": [
    "#Extracting unique activities\n",
    "flat_activity_list = [item for sublist in spyur_df['Activity'] for item in sublist]\n",
    "unique_activities = set(flat_activity_list)"
   ]
  },
  {
   "cell_type": "code",
   "execution_count": 21,
   "metadata": {},
   "outputs": [],
   "source": [
    "#removing empty actvities\n",
    "unique_activities = {activity for activity in unique_activities if activity.strip()}"
   ]
  },
  {
   "cell_type": "code",
   "execution_count": 34,
   "metadata": {},
   "outputs": [
    {
     "data": {
      "text/plain": [
       "23969"
      ]
     },
     "execution_count": 34,
     "metadata": {},
     "output_type": "execute_result"
    }
   ],
   "source": [
    "len(unique_activities)"
   ]
  },
  {
   "cell_type": "code",
   "execution_count": 23,
   "metadata": {},
   "outputs": [],
   "source": [
    "#Removing words in ()\n",
    "def remove_words_in_parentheses(activity):\n",
    "    return re.sub(r'\\([^)]*\\)', '', activity)\n",
    "cleaned_patterns = {remove_words_in_parentheses(activity) for activity in unique_activities}"
   ]
  },
  {
   "cell_type": "code",
   "execution_count": 25,
   "metadata": {},
   "outputs": [
    {
     "data": {
      "text/plain": [
       "20037"
      ]
     },
     "execution_count": 25,
     "metadata": {},
     "output_type": "execute_result"
    }
   ],
   "source": [
    "len(cleaned_patterns)"
   ]
  },
  {
   "cell_type": "code",
   "execution_count": 26,
   "metadata": {},
   "outputs": [],
   "source": [
    "# Spliting activities and keep everything before '/'\n",
    "cleaned_activities = set()\n",
    "for activity in cleaned_patterns:\n",
    "    if '/' in activity:\n",
    "        cleaned_activity = activity.split('/')[0].strip()\n",
    "    else:\n",
    "        cleaned_activity = activity.strip()\n",
    "    cleaned_activities.add(cleaned_activity)"
   ]
  },
  {
   "cell_type": "code",
   "execution_count": 28,
   "metadata": {},
   "outputs": [
    {
     "data": {
      "text/plain": [
       "18799"
      ]
     },
     "execution_count": 28,
     "metadata": {},
     "output_type": "execute_result"
    }
   ],
   "source": [
    "len(cleaned_activities)"
   ]
  },
  {
   "cell_type": "code",
   "execution_count": 29,
   "metadata": {},
   "outputs": [],
   "source": [
    "#splitting activities and keeping everythinf before :\n",
    "final_act = set()\n",
    "for activity in cleaned_activities:\n",
    "    if ':' in activity:\n",
    "        cleaned_activity = activity.split(':')[0].strip()\n",
    "    else:\n",
    "        cleaned_activity = activity.strip()\n",
    "    final_act.add(cleaned_activity)"
   ]
  },
  {
   "cell_type": "code",
   "execution_count": 30,
   "metadata": {},
   "outputs": [
    {
     "data": {
      "text/plain": [
       "16387"
      ]
     },
     "execution_count": 30,
     "metadata": {},
     "output_type": "execute_result"
    }
   ],
   "source": [
    "len(final_act)"
   ]
  },
  {
   "cell_type": "code",
   "execution_count": 31,
   "metadata": {},
   "outputs": [],
   "source": [
    "#Converting to lowercase\n",
    "final_act = {activity.lower() for activity in final_act}"
   ]
  },
  {
   "cell_type": "code",
   "execution_count": 32,
   "metadata": {},
   "outputs": [
    {
     "data": {
      "text/plain": [
       "16230"
      ]
     },
     "execution_count": 32,
     "metadata": {},
     "output_type": "execute_result"
    }
   ],
   "source": [
    "len(final_act)"
   ]
  },
  {
   "cell_type": "code",
   "execution_count": 33,
   "metadata": {},
   "outputs": [],
   "source": [
    "#Saving final activities in json format\n",
    "final_activities = list(final_act)    #8983 activities\n",
    "json_file_path = 'final_activities.json'\n",
    "\n",
    "# Save to JSON file\n",
    "with open(json_file_path, 'w') as json_file:\n",
    "    json.dump(final_activities, json_file, indent=4)"
   ]
  },
  {
   "cell_type": "code",
   "execution_count": null,
   "metadata": {},
   "outputs": [],
   "source": []
  }
 ],
 "metadata": {
  "kernelspec": {
   "display_name": ".venv",
   "language": "python",
   "name": "python3"
  },
  "language_info": {
   "codemirror_mode": {
    "name": "ipython",
    "version": 3
   },
   "file_extension": ".py",
   "mimetype": "text/x-python",
   "name": "python",
   "nbconvert_exporter": "python",
   "pygments_lexer": "ipython3",
   "version": "3.9.6"
  }
 },
 "nbformat": 4,
 "nbformat_minor": 2
}
