{
 "cells": [
  {
   "cell_type": "code",
   "execution_count": 29,
   "metadata": {},
   "outputs": [],
   "source": [
    "# Libraries\n",
    "import pandas as pd\n",
    "import re\n",
    "import json\n",
    "import nltk\n",
    "from nltk.stem import WordNetLemmatizer\n",
    "from nltk.corpus import stopwords\n",
    "from nltk.tokenize import word_tokenize\n",
    "from collections import defaultdict"
   ]
  },
  {
   "cell_type": "code",
   "execution_count": 2,
   "metadata": {},
   "outputs": [],
   "source": [
    "with open('activities.json', 'r') as file:\n",
    "    activities = json.load(file)"
   ]
  },
  {
   "cell_type": "code",
   "execution_count": 5,
   "metadata": {},
   "outputs": [],
   "source": [
    "#Removing words in ()\n",
    "def remove_words_in_parentheses(activity):\n",
    "    return re.sub(r'\\([^)]*\\)', '', activity)\n",
    "cleaned_patterns = {remove_words_in_parentheses(activity) for activity in activities}"
   ]
  },
  {
   "cell_type": "code",
   "execution_count": 8,
   "metadata": {},
   "outputs": [],
   "source": [
    "# Spliting activities and keep everything before '/'\n",
    "cleaned_activities = set()\n",
    "for activity in cleaned_patterns:\n",
    "    if '/' in activity:\n",
    "        cleaned_activity = activity.split('/')[0].strip()\n",
    "    else:\n",
    "        cleaned_activity = activity.strip()\n",
    "    cleaned_activities.add(cleaned_activity)"
   ]
  },
  {
   "cell_type": "code",
   "execution_count": 12,
   "metadata": {},
   "outputs": [],
   "source": [
    "#splitting activities and keeping everythinf before :\n",
    "final_act = set()\n",
    "for activity in cleaned_activities:\n",
    "    if ':' in activity:\n",
    "        cleaned_activity = activity.split(':')[0].strip()\n",
    "    else:\n",
    "        cleaned_activity = activity.strip()\n",
    "    final_act.add(cleaned_activity)"
   ]
  },
  {
   "cell_type": "code",
   "execution_count": 15,
   "metadata": {},
   "outputs": [],
   "source": [
    "#Converting to lowercase\n",
    "final_act = {activity.lower() for activity in final_act}"
   ]
  },
  {
   "cell_type": "code",
   "execution_count": 20,
   "metadata": {},
   "outputs": [],
   "source": [
    "#Lemmitizing activities\n",
    "def lemmatize_text(text):\n",
    "    lemmatizer = WordNetLemmatizer()\n",
    "    stop_words = set(stopwords.words('english'))  # assuming English stopwords\n",
    "\n",
    "    # Tokenize the text into words\n",
    "    tokens = word_tokenize(text.lower())  # lowercase tokens\n",
    "    \n",
    "    # Remove stopwords and punctuation\n",
    "    tokens = [token for token in tokens if token.isalnum() and token not in stop_words]\n",
    "\n",
    "    # Lemmatize tokens\n",
    "    lemmatized_tokens = [lemmatizer.lemmatize(token) for token in tokens]\n",
    "\n",
    "    # Join tokens back into a cleaned text string\n",
    "    cleaned_text = ' '.join(lemmatized_tokens)\n",
    "    return cleaned_text"
   ]
  },
  {
   "cell_type": "code",
   "execution_count": 27,
   "metadata": {},
   "outputs": [],
   "source": [
    "cleaned_texts = [lemmatize_text(text) for text in final_act]"
   ]
  },
  {
   "cell_type": "code",
   "execution_count": 30,
   "metadata": {},
   "outputs": [],
   "source": [
    "# Finding anagrams and keeping one instance of anagrams\n",
    "def keep_one_anagram(activities):\n",
    "    anagram_map = defaultdict(list)\n",
    "\n",
    "    # Create a dictionary where keys are sorted activities and values are the original activities\n",
    "    for activity in activities:\n",
    "        sorted_activity = ' '.join(sorted(activity.split()))\n",
    "        anagram_map[sorted_activity].append(activity)\n",
    "\n",
    "    # List to store unique activities (one from each set of anagrams)\n",
    "    unique_activities = []\n",
    "\n",
    "    # Keep one instance of each set of anagrams\n",
    "    for sorted_activity, orig_activities in anagram_map.items():\n",
    "        unique_activities.append(orig_activities[0])  \n",
    "\n",
    "    return unique_activities"
   ]
  },
  {
   "cell_type": "code",
   "execution_count": 31,
   "metadata": {},
   "outputs": [],
   "source": [
    "unique_activity = keep_one_anagram(cleaned_texts)"
   ]
  },
  {
   "cell_type": "code",
   "execution_count": 34,
   "metadata": {},
   "outputs": [],
   "source": [
    "json_file_path = 'lemmed_activities.json'\n",
    "\n",
    "# Save to JSON file\n",
    "with open(json_file_path, 'w') as json_file:\n",
    "    json.dump(unique_activity, json_file, indent=4)"
   ]
  }
 ],
 "metadata": {
  "kernelspec": {
   "display_name": ".venv",
   "language": "python",
   "name": "python3"
  },
  "language_info": {
   "codemirror_mode": {
    "name": "ipython",
    "version": 3
   },
   "file_extension": ".py",
   "mimetype": "text/x-python",
   "name": "python",
   "nbconvert_exporter": "python",
   "pygments_lexer": "ipython3",
   "version": "3.8.10"
  }
 },
 "nbformat": 4,
 "nbformat_minor": 2
}
