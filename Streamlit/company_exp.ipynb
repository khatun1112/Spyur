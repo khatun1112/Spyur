{
 "cells": [
  {
   "cell_type": "code",
   "execution_count": 8,
   "metadata": {},
   "outputs": [],
   "source": [
    "from geopy.geocoders import ArcGIS\n",
    "from geopy.exc import GeocoderTimedOut\n",
    "import pandas as pd\n"
   ]
  },
  {
   "cell_type": "code",
   "execution_count": 9,
   "metadata": {},
   "outputs": [],
   "source": [
    "with open('company_table.pkl', 'rb') as f:\n",
    "    company_table = pd.read_pickle(f)"
   ]
  },
  {
   "cell_type": "code",
   "execution_count": 10,
   "metadata": {},
   "outputs": [],
   "source": [
    "#Removing empty addresses \n",
    "company_table = company_table[(company_table['address']!='N/A') & (company_table['address']!='')]"
   ]
  },
  {
   "cell_type": "code",
   "execution_count": 11,
   "metadata": {},
   "outputs": [],
   "source": [
    "# Function to geocode addresses and return (latitude, longitude)\n",
    "def geocode_address(address):\n",
    "    geolocator = ArcGIS(timeout=10)\n",
    "    try:\n",
    "        location = geolocator.geocode(address)\n",
    "        if location:\n",
    "            return location.latitude, location.longitude\n",
    "        else:\n",
    "            return None, None\n",
    "    except GeocoderTimedOut:\n",
    "        return None, None\n",
    "    except Exception as e:\n",
    "        print(f\"Error geocoding address '{address}': {e}\")\n",
    "        return None, None"
   ]
  },
  {
   "cell_type": "code",
   "execution_count": null,
   "metadata": {},
   "outputs": [],
   "source": [
    "# Applying geocoding to each row in the DataFrame and create 'Location' column\n",
    "locations = []\n",
    "for index, row in company_table.iterrows():\n",
    "    address = row['address']\n",
    "    lat, lon = geocode_address(address)\n",
    "    locations.append((lat, lon))\n",
    "    print(f'Added location {lat}, {lon}')\n",
    "print('Geocoding is comleted')"
   ]
  },
  {
   "cell_type": "code",
   "execution_count": 13,
   "metadata": {},
   "outputs": [],
   "source": [
    "company_table['location'] = locations"
   ]
  },
  {
   "cell_type": "code",
   "execution_count": 16,
   "metadata": {},
   "outputs": [],
   "source": [
    "#converting year_extablished column type to int and filling nans\n",
    "company_table['year_established'] = pd.to_numeric(company_table['year_established'], errors='coerce')\n",
    "company_table['year_established'] = company_table['year_established'].fillna(0).astype('int')   "
   ]
  },
  {
   "cell_type": "code",
   "execution_count": 17,
   "metadata": {},
   "outputs": [],
   "source": [
    "company_table.to_pickle('company_table.pkl')"
   ]
  },
  {
   "cell_type": "code",
   "execution_count": null,
   "metadata": {},
   "outputs": [],
   "source": []
  }
 ],
 "metadata": {
  "kernelspec": {
   "display_name": "Python 3",
   "language": "python",
   "name": "python3"
  },
  "language_info": {
   "codemirror_mode": {
    "name": "ipython",
    "version": 3
   },
   "file_extension": ".py",
   "mimetype": "text/x-python",
   "name": "python",
   "nbconvert_exporter": "python",
   "pygments_lexer": "ipython3",
   "version": "3.10.14"
  }
 },
 "nbformat": 4,
 "nbformat_minor": 2
}
