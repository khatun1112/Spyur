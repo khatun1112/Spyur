{
 "cells": [
  {
   "cell_type": "code",
   "execution_count": 29,
   "metadata": {},
   "outputs": [],
   "source": [
    "import pandas as pd"
   ]
  },
  {
   "cell_type": "code",
   "execution_count": 30,
   "metadata": {},
   "outputs": [],
   "source": [
    "with open('company_table.pkl', 'rb') as f:\n",
    "    company_table = pd.read_pickle(f)\n",
    "with open('executive_table.pkl', 'rb') as f:\n",
    "    executive_table = pd.read_pickle(f)    \n",
    "with open('activity_table.pkl', 'rb') as f:\n",
    "    activity_table = pd.read_pickle(f)   \n",
    "with open ('product_table.pkl', 'rb') as f:\n",
    "    product_table = pd.read_pickle(f)  "
   ]
  },
  {
   "cell_type": "code",
   "execution_count": 31,
   "metadata": {},
   "outputs": [],
   "source": [
    "comp_ex = pd.merge(company_table, executive_table, on='url_id', how='left')"
   ]
  },
  {
   "cell_type": "code",
   "execution_count": 32,
   "metadata": {},
   "outputs": [],
   "source": [
    "comp_ex_act = pd.merge(comp_ex, activity_table, on='url_id', how='left')"
   ]
  },
  {
   "cell_type": "code",
   "execution_count": 33,
   "metadata": {},
   "outputs": [],
   "source": [
    "spyur_df = pd.merge(comp_ex_act, product_table, on='url_id', how='left', suffixes=('act', 'prod'))"
   ]
  },
  {
   "cell_type": "code",
   "execution_count": 34,
   "metadata": {},
   "outputs": [],
   "source": [
    "spyur_df.to_pickle('spyur.pkl')"
   ]
  },
  {
   "cell_type": "code",
   "execution_count": null,
   "metadata": {},
   "outputs": [],
   "source": []
  }
 ],
 "metadata": {
  "kernelspec": {
   "display_name": "Python 3",
   "language": "python",
   "name": "python3"
  },
  "language_info": {
   "codemirror_mode": {
    "name": "ipython",
    "version": 3
   },
   "file_extension": ".py",
   "mimetype": "text/x-python",
   "name": "python",
   "nbconvert_exporter": "python",
   "pygments_lexer": "ipython3",
   "version": "3.10.14"
  }
 },
 "nbformat": 4,
 "nbformat_minor": 2
}
