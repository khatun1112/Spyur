{
 "cells": [
  {
   "cell_type": "code",
   "execution_count": 3,
   "metadata": {},
   "outputs": [],
   "source": [
    "import pymysql\n",
    "import pandas as pd\n",
    "import classified_names"
   ]
  },
  {
   "cell_type": "code",
   "execution_count": 4,
   "metadata": {},
   "outputs": [],
   "source": [
    "#Dictionary for gender mapping\n",
    "name_gender = classified_names.output\n",
    "name_gender['Ararat'] = 'Male'"
   ]
  },
  {
   "cell_type": "code",
   "execution_count": 5,
   "metadata": {},
   "outputs": [],
   "source": [
    "#Connecting to database\n",
    "user = 'user_here'\n",
    "password = 'password_here'\n",
    "host = 'localhost'\n",
    "port = 3306\n",
    "database = 'database_here'\n",
    "connection = pymysql.connect(user=user, password=password, host=host, port=port, database=database)"
   ]
  },
  {
   "cell_type": "code",
   "execution_count": null,
   "metadata": {},
   "outputs": [],
   "source": [
    "#Reading sql tables\n",
    "company_t = \"select * from company_table\"\n",
    "exec_t = 'select * from executive_table'\n",
    "act_t = 'select * from activity_table'\n",
    "prod_t = 'select * from product_table'\n",
    "company_table = pd.read_sql(company_t, connection)\n",
    "executive_table = pd.read_sql(exec_t, connection)\n",
    "activity_table = pd.read_sql(act_t, connection)\n",
    "product_table = pd.read_sql(prod_t, connection)"
   ]
  },
  {
   "cell_type": "code",
   "execution_count": 7,
   "metadata": {},
   "outputs": [],
   "source": [
    "#removing empty executives, keeping only companies with one executive\n",
    "executive_table = executive_table[executive_table['executive'] != 'N/A']\n",
    "executive_counts = executive_table.groupby('url_id').size()\n",
    "single_executive_companies = executive_counts[executive_counts == 1]\n",
    "executive_table = executive_table[executive_table['url_id'].isin(single_executive_companies.index)]"
   ]
  },
  {
   "cell_type": "code",
   "execution_count": 8,
   "metadata": {},
   "outputs": [],
   "source": [
    "#Splitting executive rows into full name and role columns\n",
    "executive_table['executive'] = executive_table['executive'].astype('str')\n",
    "executive_table['role'] = executive_table['executive'].str.split(',', n=1).str[1].str.strip()\n",
    "executive_table['full_name'] = executive_table['executive'].str.split(',', n=1).str[0].str.strip()"
   ]
  },
  {
   "cell_type": "code",
   "execution_count": 9,
   "metadata": {},
   "outputs": [],
   "source": [
    "#Function to extract first names for mapping\n",
    "def extract_first_name(full_name, suffixes=[\"yan\", \"ian\", \"ts\", \"unc\", \"jan\", \"tz\", \"ians\"]):\n",
    "    if not full_name:\n",
    "        return None\n",
    "    \n",
    "    name_parts = full_name.split()\n",
    "    current_first_names = []\n",
    "\n",
    "    for part in name_parts:\n",
    "        if part.endswith('.'):\n",
    "            continue  \n",
    "        elif any(part.endswith(suffix) for suffix in suffixes):\n",
    "            continue  \n",
    "        else:\n",
    "            current_first_names.append(part)\n",
    "\n",
    "    return ' '.join(current_first_names) if current_first_names else None\n",
    "\n",
    "executive_table['first_name'] = executive_table['full_name'].apply(extract_first_name)"
   ]
  },
  {
   "cell_type": "code",
   "execution_count": 10,
   "metadata": {},
   "outputs": [],
   "source": [
    "# Removing rows where first_name is None or empty, mapping gender\n",
    "executive_table = executive_table[executive_table['first_name'].notna() & (executive_table['first_name'] != '')]\n",
    "executive_table['gender'] = executive_table['first_name'].map(name_gender)\n"
   ]
  },
  {
   "cell_type": "code",
   "execution_count": 13,
   "metadata": {},
   "outputs": [],
   "source": [
    "executive_table = executive_table[executive_table['gender']!= 'Unknown']"
   ]
  },
  {
   "cell_type": "code",
   "execution_count": 16,
   "metadata": {},
   "outputs": [],
   "source": [
    "#Saving table as pkl file\n",
    "executive_table.to_pickle('executive_table.pkl')\n",
    "company_table.to_pickle('company_table.pkl')\n",
    "activity_table.to_pickle('activity_table.pkl')\n",
    "product_table.to_pickle('product_table.pkl')"
   ]
  }
 ],
 "metadata": {
  "kernelspec": {
   "display_name": "Python 3",
   "language": "python",
   "name": "python3"
  },
  "language_info": {
   "codemirror_mode": {
    "name": "ipython",
    "version": 3
   },
   "file_extension": ".py",
   "mimetype": "text/x-python",
   "name": "python",
   "nbconvert_exporter": "python",
   "pygments_lexer": "ipython3",
   "version": "3.8.10"
  }
 },
 "nbformat": 4,
 "nbformat_minor": 2
}
